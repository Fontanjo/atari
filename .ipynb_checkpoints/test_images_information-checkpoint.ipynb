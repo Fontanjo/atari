{
 "cells": [
  {
   "cell_type": "markdown",
   "id": "0e609c1e",
   "metadata": {},
   "source": [
    "# Goal"
   ]
  },
  {
   "cell_type": "markdown",
   "id": "83cb8012",
   "metadata": {},
   "source": [
    "Find a way to build a dataset containing only images that bring new informations"
   ]
  },
  {
   "cell_type": "code",
   "execution_count": 1,
   "id": "557a7b27",
   "metadata": {},
   "outputs": [],
   "source": [
    "import cv2\n",
    "import os\n",
    "import time\n",
    "from tqdm import tqdm\n",
    "import numpy as np\n",
    "from PIL import Image"
   ]
  },
  {
   "cell_type": "markdown",
   "id": "30eb289f",
   "metadata": {},
   "source": [
    "### Extract images from videos"
   ]
  },
  {
   "cell_type": "code",
   "execution_count": 2,
   "id": "b1efe9ac",
   "metadata": {},
   "outputs": [
    {
     "name": "stderr",
     "output_type": "stream",
     "text": [
      "100%|███████████████████████████████████████████| 66/66 [00:12<00:00,  5.18it/s]"
     ]
    },
    {
     "name": "stdout",
     "output_type": "stream",
     "text": [
      "Seaquest-v5: 16307 images extracted from 66 videos, in 12 seconds\n"
     ]
    },
    {
     "name": "stderr",
     "output_type": "stream",
     "text": [
      "\n"
     ]
    }
   ],
   "source": [
    "env_name = 'Seaquest-v5'\n",
    "video_folder = 'video'\n",
    "image_folder = 'images'\n",
    "\n",
    "os.makedirs(image_folder + '/' + env_name, exist_ok=True)\n",
    "\n",
    "\n",
    "# Count images and videos\n",
    "i = 0\n",
    "v = 0\n",
    "\n",
    "# Count time\n",
    "start = time.time()\n",
    "\n",
    "# Iterate over videos of the env\n",
    "for video_name in tqdm(os.listdir(video_folder + '/' + env_name)):\n",
    "    v += 1\n",
    "    # Skip non-video files (e.g. .json)\n",
    "    if not video_name.endswith('.mp4'): continue\n",
    "    # Load video\n",
    "    video = cv2.VideoCapture(video_folder + '/' + env_name + '/' + video_name)\n",
    "    # Retrive frames\n",
    "    while(True):\n",
    "        retrived, frame = video.read()\n",
    "        if retrived:\n",
    "            out_name = image_folder + '/' + env_name + '/' + str(i) + '.jpg'\n",
    "            cv2.imwrite(out_name, frame)\n",
    "            i += 1\n",
    "        else:\n",
    "            break\n",
    "            \n",
    "    # Release all space and windows once done\n",
    "    video.release()\n",
    "    cv2.destroyAllWindows()\n",
    "            \n",
    "stop = time.time()\n",
    "            \n",
    "print(f'{env_name}: {i+1} images extracted from {v} videos, in {int(stop - start)} seconds')"
   ]
  },
  {
   "cell_type": "markdown",
   "id": "47daeccc",
   "metadata": {},
   "source": [
    "## The first idea is to measure the difference of two images as purely the sum of the pixelwise difference"
   ]
  },
  {
   "cell_type": "code",
   "execution_count": 2,
   "id": "52d8a5f4",
   "metadata": {},
   "outputs": [
    {
     "name": "stdout",
     "output_type": "stream",
     "text": [
      "['7338.jpg', '13385.jpg', '1216.jpg', '345.jpg', '12623.jpg', '3633.jpg', '7297.jpg', '953.jpg', '11094.jpg', '2667.jpg', '14491.jpg', '9175.jpg', '14591.jpg', '1272.jpg', '15921.jpg', '10924.jpg', '5937.jpg', '11845.jpg', '11204.jpg', '6101.jpg']\n"
     ]
    }
   ],
   "source": [
    "env_name = 'Seaquest-v5'\n",
    "image_folder = 'images'\n",
    "\n",
    "images = os.listdir(image_folder + '/' + env_name)[:20]\n",
    "\n",
    "print(images)"
   ]
  },
  {
   "cell_type": "code",
   "execution_count": 3,
   "id": "04c82822",
   "metadata": {},
   "outputs": [
    {
     "name": "stdout",
     "output_type": "stream",
     "text": [
      "(210, 160, 3)\n"
     ]
    }
   ],
   "source": [
    "img0 = cv2.imread(image_folder + '/' + env_name + '/' + images[0])\n",
    "img1 = cv2.imread(image_folder + '/' + env_name + '/' + images[1])\n",
    "\n",
    "\n",
    "# img0 = cv2.imread(image_folder + '/' + env_name + '/' + images[0])\n",
    "\n",
    "diff = np.abs(np.subtract(img0, img1))\n",
    "\n",
    "print(img0.shape)\n",
    "\n",
    "cv2.imshow('out', img0)\n",
    "# img0.imshow('out')\n",
    "\n",
    "\n",
    "# img1\n",
    "\n",
    "# img0[0][0]\n",
    "# img0[0][0]\n",
    "\n",
    "# np.array([4, 0, 3]) - np.array([5, 0, 1])"
   ]
  },
  {
   "cell_type": "code",
   "execution_count": 3,
   "id": "f9c4ee2b",
   "metadata": {},
   "outputs": [],
   "source": [
    "# # Importing all necessary libraries\n",
    "# import cv2\n",
    "# import os\n",
    "\n",
    "# # Read the video from specified path\n",
    "# cam = cv2.VideoCapture(\"C:\\\\Users\\\\Admin\\\\PycharmProjects\\\\project_1\\\\openCV.mp4\")\n",
    "\n",
    "# try:\n",
    "\t\n",
    "# \t# creating a folder named data\n",
    "# \tif not os.path.exists('data'):\n",
    "# \t\tos.makedirs('data')\n",
    "\n",
    "# # if not created then raise error\n",
    "# except OSError:\n",
    "# \tprint ('Error: Creating directory of data')\n",
    "\n",
    "# # frame\n",
    "# currentframe = 0\n",
    "\n",
    "# while(True):\n",
    "\t\n",
    "# \t# reading from frame\n",
    "# \tret,frame = cam.read()\n",
    "\n",
    "# \tif ret:\n",
    "# \t\t# if video is still left continue creating images\n",
    "# \t\tname = './data/frame' + str(currentframe) + '.jpg'\n",
    "# \t\tprint ('Creating...' + name)\n",
    "\n",
    "# \t\t# writing the extracted images\n",
    "# \t\tcv2.imwrite(name, frame)\n",
    "\n",
    "# \t\t# increasing counter so that it will\n",
    "# \t\t# show how many frames are created\n",
    "# \t\tcurrentframe += 1\n",
    "# \telse:\n",
    "# \t\tbreak\n",
    "\n",
    "# # Release all space and windows once done\n",
    "# cam.release()\n",
    "# cv2.destroyAllWindows()\n"
   ]
  }
 ],
 "metadata": {
  "kernelspec": {
   "display_name": "Python 3 (ipykernel)",
   "language": "python",
   "name": "python3"
  },
  "language_info": {
   "codemirror_mode": {
    "name": "ipython",
    "version": 3
   },
   "file_extension": ".py",
   "mimetype": "text/x-python",
   "name": "python",
   "nbconvert_exporter": "python",
   "pygments_lexer": "ipython3",
   "version": "3.8.10"
  }
 },
 "nbformat": 4,
 "nbformat_minor": 5
}
